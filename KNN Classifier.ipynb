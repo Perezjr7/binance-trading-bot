{
 "cells": [
  {
   "cell_type": "code",
   "execution_count": 1,
   "id": "d38d68d7-b63e-4c21-90b5-73338f558801",
   "metadata": {},
   "outputs": [],
   "source": [
    "import numpy as np \n",
    "import pandas as pd\n",
    "import matplotlib.pyplot as plt \n",
    "import seaborn as sns"
   ]
  },
  {
   "cell_type": "code",
   "execution_count": 2,
   "id": "ab2c5a82-936b-464b-8546-b8fc62be5fad",
   "metadata": {},
   "outputs": [],
   "source": [
    "df=pd.read_csv('mountains_vs_beaches_preferences.csv')"
   ]
  },
  {
   "cell_type": "code",
   "execution_count": 3,
   "id": "dbe88c87-8948-474e-ac52-3cc5856ce007",
   "metadata": {
    "jupyter": {
     "source_hidden": true
    }
   },
   "outputs": [
    {
     "data": {
      "text/html": [
       "<div>\n",
       "<style scoped>\n",
       "    .dataframe tbody tr th:only-of-type {\n",
       "        vertical-align: middle;\n",
       "    }\n",
       "\n",
       "    .dataframe tbody tr th {\n",
       "        vertical-align: top;\n",
       "    }\n",
       "\n",
       "    .dataframe thead th {\n",
       "        text-align: right;\n",
       "    }\n",
       "</style>\n",
       "<table border=\"1\" class=\"dataframe\">\n",
       "  <thead>\n",
       "    <tr style=\"text-align: right;\">\n",
       "      <th></th>\n",
       "      <th>Age</th>\n",
       "      <th>Gender</th>\n",
       "      <th>Income</th>\n",
       "      <th>Education_Level</th>\n",
       "      <th>Travel_Frequency</th>\n",
       "      <th>Preferred_Activities</th>\n",
       "      <th>Vacation_Budget</th>\n",
       "      <th>Location</th>\n",
       "      <th>Proximity_to_Mountains</th>\n",
       "      <th>Proximity_to_Beaches</th>\n",
       "      <th>Favorite_Season</th>\n",
       "      <th>Pets</th>\n",
       "      <th>Environmental_Concerns</th>\n",
       "      <th>Preference</th>\n",
       "    </tr>\n",
       "  </thead>\n",
       "  <tbody>\n",
       "    <tr>\n",
       "      <th>0</th>\n",
       "      <td>56</td>\n",
       "      <td>male</td>\n",
       "      <td>71477</td>\n",
       "      <td>bachelor</td>\n",
       "      <td>9</td>\n",
       "      <td>skiing</td>\n",
       "      <td>2477</td>\n",
       "      <td>urban</td>\n",
       "      <td>175</td>\n",
       "      <td>267</td>\n",
       "      <td>summer</td>\n",
       "      <td>0</td>\n",
       "      <td>1</td>\n",
       "      <td>1</td>\n",
       "    </tr>\n",
       "    <tr>\n",
       "      <th>1</th>\n",
       "      <td>69</td>\n",
       "      <td>male</td>\n",
       "      <td>88740</td>\n",
       "      <td>master</td>\n",
       "      <td>1</td>\n",
       "      <td>swimming</td>\n",
       "      <td>4777</td>\n",
       "      <td>suburban</td>\n",
       "      <td>228</td>\n",
       "      <td>190</td>\n",
       "      <td>fall</td>\n",
       "      <td>0</td>\n",
       "      <td>1</td>\n",
       "      <td>0</td>\n",
       "    </tr>\n",
       "    <tr>\n",
       "      <th>2</th>\n",
       "      <td>46</td>\n",
       "      <td>female</td>\n",
       "      <td>46562</td>\n",
       "      <td>master</td>\n",
       "      <td>0</td>\n",
       "      <td>skiing</td>\n",
       "      <td>1469</td>\n",
       "      <td>urban</td>\n",
       "      <td>71</td>\n",
       "      <td>280</td>\n",
       "      <td>winter</td>\n",
       "      <td>0</td>\n",
       "      <td>0</td>\n",
       "      <td>1</td>\n",
       "    </tr>\n",
       "    <tr>\n",
       "      <th>3</th>\n",
       "      <td>32</td>\n",
       "      <td>non-binary</td>\n",
       "      <td>99044</td>\n",
       "      <td>high school</td>\n",
       "      <td>6</td>\n",
       "      <td>hiking</td>\n",
       "      <td>1482</td>\n",
       "      <td>rural</td>\n",
       "      <td>31</td>\n",
       "      <td>255</td>\n",
       "      <td>summer</td>\n",
       "      <td>1</td>\n",
       "      <td>0</td>\n",
       "      <td>1</td>\n",
       "    </tr>\n",
       "    <tr>\n",
       "      <th>4</th>\n",
       "      <td>60</td>\n",
       "      <td>female</td>\n",
       "      <td>106583</td>\n",
       "      <td>high school</td>\n",
       "      <td>5</td>\n",
       "      <td>sunbathing</td>\n",
       "      <td>516</td>\n",
       "      <td>suburban</td>\n",
       "      <td>23</td>\n",
       "      <td>151</td>\n",
       "      <td>winter</td>\n",
       "      <td>1</td>\n",
       "      <td>1</td>\n",
       "      <td>0</td>\n",
       "    </tr>\n",
       "  </tbody>\n",
       "</table>\n",
       "</div>"
      ],
      "text/plain": [
       "   Age      Gender  Income Education_Level  Travel_Frequency  \\\n",
       "0   56        male   71477        bachelor                 9   \n",
       "1   69        male   88740          master                 1   \n",
       "2   46      female   46562          master                 0   \n",
       "3   32  non-binary   99044     high school                 6   \n",
       "4   60      female  106583     high school                 5   \n",
       "\n",
       "  Preferred_Activities  Vacation_Budget  Location  Proximity_to_Mountains  \\\n",
       "0               skiing             2477     urban                     175   \n",
       "1             swimming             4777  suburban                     228   \n",
       "2               skiing             1469     urban                      71   \n",
       "3               hiking             1482     rural                      31   \n",
       "4           sunbathing              516  suburban                      23   \n",
       "\n",
       "   Proximity_to_Beaches Favorite_Season  Pets  Environmental_Concerns  \\\n",
       "0                   267          summer     0                       1   \n",
       "1                   190            fall     0                       1   \n",
       "2                   280          winter     0                       0   \n",
       "3                   255          summer     1                       0   \n",
       "4                   151          winter     1                       1   \n",
       "\n",
       "   Preference  \n",
       "0           1  \n",
       "1           0  \n",
       "2           1  \n",
       "3           1  \n",
       "4           0  "
      ]
     },
     "execution_count": 3,
     "metadata": {},
     "output_type": "execute_result"
    }
   ],
   "source": [
    "df.head()"
   ]
  },
  {
   "cell_type": "code",
   "execution_count": 4,
   "id": "b1e16aec-d1b0-412d-8cbd-4cff1e839098",
   "metadata": {},
   "outputs": [
    {
     "name": "stdout",
     "output_type": "stream",
     "text": [
      "<class 'pandas.core.frame.DataFrame'>\n",
      "RangeIndex: 52444 entries, 0 to 52443\n",
      "Data columns (total 14 columns):\n",
      " #   Column                  Non-Null Count  Dtype \n",
      "---  ------                  --------------  ----- \n",
      " 0   Age                     52444 non-null  int64 \n",
      " 1   Gender                  52444 non-null  object\n",
      " 2   Income                  52444 non-null  int64 \n",
      " 3   Education_Level         52444 non-null  object\n",
      " 4   Travel_Frequency        52444 non-null  int64 \n",
      " 5   Preferred_Activities    52444 non-null  object\n",
      " 6   Vacation_Budget         52444 non-null  int64 \n",
      " 7   Location                52444 non-null  object\n",
      " 8   Proximity_to_Mountains  52444 non-null  int64 \n",
      " 9   Proximity_to_Beaches    52444 non-null  int64 \n",
      " 10  Favorite_Season         52444 non-null  object\n",
      " 11  Pets                    52444 non-null  int64 \n",
      " 12  Environmental_Concerns  52444 non-null  int64 \n",
      " 13  Preference              52444 non-null  int64 \n",
      "dtypes: int64(9), object(5)\n",
      "memory usage: 5.6+ MB\n"
     ]
    }
   ],
   "source": [
    "df.info()"
   ]
  },
  {
   "cell_type": "code",
   "execution_count": 5,
   "id": "428a30d5-13a3-4c48-8dc7-c025aa4b4e74",
   "metadata": {},
   "outputs": [
    {
     "data": {
      "text/html": [
       "<div>\n",
       "<style scoped>\n",
       "    .dataframe tbody tr th:only-of-type {\n",
       "        vertical-align: middle;\n",
       "    }\n",
       "\n",
       "    .dataframe tbody tr th {\n",
       "        vertical-align: top;\n",
       "    }\n",
       "\n",
       "    .dataframe thead th {\n",
       "        text-align: right;\n",
       "    }\n",
       "</style>\n",
       "<table border=\"1\" class=\"dataframe\">\n",
       "  <thead>\n",
       "    <tr style=\"text-align: right;\">\n",
       "      <th></th>\n",
       "      <th>Age</th>\n",
       "      <th>Income</th>\n",
       "      <th>Travel_Frequency</th>\n",
       "      <th>Vacation_Budget</th>\n",
       "      <th>Proximity_to_Mountains</th>\n",
       "      <th>Proximity_to_Beaches</th>\n",
       "      <th>Pets</th>\n",
       "      <th>Environmental_Concerns</th>\n",
       "      <th>Preference</th>\n",
       "    </tr>\n",
       "  </thead>\n",
       "  <tbody>\n",
       "    <tr>\n",
       "      <th>count</th>\n",
       "      <td>52444.000000</td>\n",
       "      <td>52444.000000</td>\n",
       "      <td>52444.000000</td>\n",
       "      <td>52444.000000</td>\n",
       "      <td>52444.000000</td>\n",
       "      <td>52444.000000</td>\n",
       "      <td>52444.000000</td>\n",
       "      <td>52444.000000</td>\n",
       "      <td>52444.000000</td>\n",
       "    </tr>\n",
       "    <tr>\n",
       "      <th>mean</th>\n",
       "      <td>43.507360</td>\n",
       "      <td>70017.271280</td>\n",
       "      <td>4.489265</td>\n",
       "      <td>2741.799062</td>\n",
       "      <td>149.943502</td>\n",
       "      <td>149.888452</td>\n",
       "      <td>0.500858</td>\n",
       "      <td>0.498436</td>\n",
       "      <td>0.250706</td>\n",
       "    </tr>\n",
       "    <tr>\n",
       "      <th>std</th>\n",
       "      <td>14.985597</td>\n",
       "      <td>28847.560428</td>\n",
       "      <td>2.876130</td>\n",
       "      <td>1296.922423</td>\n",
       "      <td>86.548644</td>\n",
       "      <td>86.469248</td>\n",
       "      <td>0.500004</td>\n",
       "      <td>0.500002</td>\n",
       "      <td>0.433423</td>\n",
       "    </tr>\n",
       "    <tr>\n",
       "      <th>min</th>\n",
       "      <td>18.000000</td>\n",
       "      <td>20001.000000</td>\n",
       "      <td>0.000000</td>\n",
       "      <td>500.000000</td>\n",
       "      <td>0.000000</td>\n",
       "      <td>0.000000</td>\n",
       "      <td>0.000000</td>\n",
       "      <td>0.000000</td>\n",
       "      <td>0.000000</td>\n",
       "    </tr>\n",
       "    <tr>\n",
       "      <th>25%</th>\n",
       "      <td>31.000000</td>\n",
       "      <td>45048.250000</td>\n",
       "      <td>2.000000</td>\n",
       "      <td>1622.000000</td>\n",
       "      <td>75.000000</td>\n",
       "      <td>75.750000</td>\n",
       "      <td>0.000000</td>\n",
       "      <td>0.000000</td>\n",
       "      <td>0.000000</td>\n",
       "    </tr>\n",
       "    <tr>\n",
       "      <th>50%</th>\n",
       "      <td>43.000000</td>\n",
       "      <td>70167.000000</td>\n",
       "      <td>4.000000</td>\n",
       "      <td>2733.000000</td>\n",
       "      <td>150.000000</td>\n",
       "      <td>150.000000</td>\n",
       "      <td>1.000000</td>\n",
       "      <td>0.000000</td>\n",
       "      <td>0.000000</td>\n",
       "    </tr>\n",
       "    <tr>\n",
       "      <th>75%</th>\n",
       "      <td>56.000000</td>\n",
       "      <td>95108.500000</td>\n",
       "      <td>7.000000</td>\n",
       "      <td>3869.000000</td>\n",
       "      <td>225.000000</td>\n",
       "      <td>225.000000</td>\n",
       "      <td>1.000000</td>\n",
       "      <td>1.000000</td>\n",
       "      <td>1.000000</td>\n",
       "    </tr>\n",
       "    <tr>\n",
       "      <th>max</th>\n",
       "      <td>69.000000</td>\n",
       "      <td>119999.000000</td>\n",
       "      <td>9.000000</td>\n",
       "      <td>4999.000000</td>\n",
       "      <td>299.000000</td>\n",
       "      <td>299.000000</td>\n",
       "      <td>1.000000</td>\n",
       "      <td>1.000000</td>\n",
       "      <td>1.000000</td>\n",
       "    </tr>\n",
       "  </tbody>\n",
       "</table>\n",
       "</div>"
      ],
      "text/plain": [
       "                Age         Income  Travel_Frequency  Vacation_Budget  \\\n",
       "count  52444.000000   52444.000000      52444.000000     52444.000000   \n",
       "mean      43.507360   70017.271280          4.489265      2741.799062   \n",
       "std       14.985597   28847.560428          2.876130      1296.922423   \n",
       "min       18.000000   20001.000000          0.000000       500.000000   \n",
       "25%       31.000000   45048.250000          2.000000      1622.000000   \n",
       "50%       43.000000   70167.000000          4.000000      2733.000000   \n",
       "75%       56.000000   95108.500000          7.000000      3869.000000   \n",
       "max       69.000000  119999.000000          9.000000      4999.000000   \n",
       "\n",
       "       Proximity_to_Mountains  Proximity_to_Beaches          Pets  \\\n",
       "count            52444.000000          52444.000000  52444.000000   \n",
       "mean               149.943502            149.888452      0.500858   \n",
       "std                 86.548644             86.469248      0.500004   \n",
       "min                  0.000000              0.000000      0.000000   \n",
       "25%                 75.000000             75.750000      0.000000   \n",
       "50%                150.000000            150.000000      1.000000   \n",
       "75%                225.000000            225.000000      1.000000   \n",
       "max                299.000000            299.000000      1.000000   \n",
       "\n",
       "       Environmental_Concerns    Preference  \n",
       "count            52444.000000  52444.000000  \n",
       "mean                 0.498436      0.250706  \n",
       "std                  0.500002      0.433423  \n",
       "min                  0.000000      0.000000  \n",
       "25%                  0.000000      0.000000  \n",
       "50%                  0.000000      0.000000  \n",
       "75%                  1.000000      1.000000  \n",
       "max                  1.000000      1.000000  "
      ]
     },
     "execution_count": 5,
     "metadata": {},
     "output_type": "execute_result"
    }
   ],
   "source": [
    "df.describe()"
   ]
  },
  {
   "cell_type": "code",
   "execution_count": null,
   "id": "47830f81-2a06-4731-8593-1b2470b420fa",
   "metadata": {},
   "outputs": [],
   "source": [
    "sns.pairplot(df,corner=True,hue='Preference')"
   ]
  },
  {
   "cell_type": "code",
   "execution_count": 6,
   "id": "b0e9f88a-bfd9-4c9a-9580-178c9d0566c5",
   "metadata": {},
   "outputs": [
    {
     "data": {
      "text/plain": [
       "<Axes: >"
      ]
     },
     "execution_count": 6,
     "metadata": {},
     "output_type": "execute_result"
    },
    {
     "data": {
      "image/png": "[encoded data removed]",
      "text/plain": [
       "<Figure size 640x480 with 2 Axes>"
      ]
     },
     "metadata": {},
     "output_type": "display_data"
    }
   ],
   "source": [
    "sns.heatmap(df.corr(numeric_only=True),annot=True,cmap='coolwarm',vmin=-1,vmax=1)"
   ]
  },
  {
   "cell_type": "code",
   "execution_count": 7,
   "id": "d8360a72-8915-4b6c-be4d-fc5c4b574bd9",
   "metadata": {},
   "outputs": [],
   "source": [
    "df=pd.get_dummies(df,columns=['Gender','Education_Level','Preferred_Activities','Location','Favorite_Season'],dtype=int,drop_first=True)"
   ]
  },
  {
   "cell_type": "code",
   "execution_count": 8,
   "id": "3e2df2ae-241b-4775-aa15-17d9cf476d21",
   "metadata": {},
   "outputs": [
    {
     "data": {
      "text/plain": [
       "Age                                0\n",
       "Income                             0\n",
       "Travel_Frequency                   0\n",
       "Vacation_Budget                    0\n",
       "Proximity_to_Mountains             0\n",
       "Proximity_to_Beaches               0\n",
       "Pets                               0\n",
       "Environmental_Concerns             0\n",
       "Preference                         0\n",
       "Gender_male                        0\n",
       "Gender_non-binary                  0\n",
       "Education_Level_doctorate          0\n",
       "Education_Level_high school        0\n",
       "Education_Level_master             0\n",
       "Preferred_Activities_skiing        0\n",
       "Preferred_Activities_sunbathing    0\n",
       "Preferred_Activities_swimming      0\n",
       "Location_suburban                  0\n",
       "Location_urban                     0\n",
       "Favorite_Season_spring             0\n",
       "Favorite_Season_summer             0\n",
       "Favorite_Season_winter             0\n",
       "dtype: int64"
      ]
     },
     "execution_count": 8,
     "metadata": {},
     "output_type": "execute_result"
    }
   ],
   "source": [
    "df.isnull().sum()"
   ]
  },
  {
   "cell_type": "code",
   "execution_count": 9,
   "id": "673c67ac-6160-40a0-9c81-cdd5948387f7",
   "metadata": {
    "jp-MarkdownHeadingCollapsed": true
   },
   "outputs": [],
   "source": [
    "X=df.drop('Preference',axis=1)\n",
    "y=df['Preference']"
   ]
  },
  {
   "cell_type": "code",
   "execution_count": 10,
   "id": "a1d893c4-b123-4cee-98c6-ae9907635ced",
   "metadata": {},
   "outputs": [],
   "source": [
    "from sklearn.model_selection import train_test_split"
   ]
  },
  {
   "cell_type": "code",
   "execution_count": 11,
   "id": "90dfae98-fb1e-47d2-83ea-7205aabf5648",
   "metadata": {},
   "outputs": [],
   "source": [
    "X_train,X_test,y_train,y_test = train_test_split(X,y,test_size=0.25)"
   ]
  },
  {
   "cell_type": "code",
   "execution_count": 12,
   "id": "2735b86e-3986-4983-a364-a024fa6ad09c",
   "metadata": {},
   "outputs": [],
   "source": [
    "from sklearn.neighbors import KNeighborsClassifier\n",
    "from sklearn.metrics import classification_report,accuracy_score"
   ]
  },
  {
   "cell_type": "code",
   "execution_count": null,
   "id": "bfbfc85a-6032-4353-8a0b-47b972f1ab38",
   "metadata": {},
   "outputs": [],
   "source": [
    "#accuracy list \n",
    "acc_li=[]\n",
    "for i in range(2,11):\n",
    "    knn=KNeighborsClassifier(n_neighbors=i)\n",
    "    knn.fit(X_train,y_train)\n",
    "    y_pred=knn.predict(X_test)\n",
    "    acc_li.append(accuracy_score(y_test,y_pred))\n",
    "\n",
    "print(acc_li)\n"
   ]
  },
  {
   "cell_type": "code",
   "execution_count": null,
   "id": "4ce78086-7571-480b-b900-44c3b0103a57",
   "metadata": {},
   "outputs": [],
   "source": [
    "    #error list\n",
    "    err_li=[]\n",
    "    for i in range(2,11):\n",
    "        knn=KNeighborsClassifier(n_neighbors=i)\n",
    "        knn.fit(X_train,y_train)\n",
    "        y_pred=knn.predict(X_test)\n",
    "        err_li.append(1-accuracy_score(y_test,y_pred))\n",
    "    \n",
    "    print(err_li)"
   ]
  },
  {
   "cell_type": "code",
   "execution_count": 13,
   "id": "8b476e01-954d-49e9-9989-c423040b3fc1",
   "metadata": {},
   "outputs": [],
   "source": [
    "knn=KNeighborsClassifier(n_neighbors=4)\n",
    "knn.fit(X_train,y_train)\n",
    "y_pred=knn.predict(X_test)"
   ]
  },
  {
   "cell_type": "code",
   "execution_count": 14,
   "id": "295d2c05-ec56-4eeb-852f-2de39fd0b4c5",
   "metadata": {},
   "outputs": [
    {
     "name": "stdout",
     "output_type": "stream",
     "text": [
      "              precision    recall  f1-score   support\n",
      "\n",
      "           0       0.76      0.95      0.85      9787\n",
      "           1       0.47      0.14      0.22      3324\n",
      "\n",
      "    accuracy                           0.74     13111\n",
      "   macro avg       0.62      0.54      0.53     13111\n",
      "weighted avg       0.69      0.74      0.69     13111\n",
      "\n"
     ]
    }
   ],
   "source": [
    "print(classification_report(y_test,y_pred))"
   ]
  },
  {
   "cell_type": "code",
   "execution_count": 15,
   "id": "dc0aa87d-e586-4ad3-becd-84e386b88443",
   "metadata": {},
   "outputs": [],
   "source": [
    "from sklearn.preprocessing import StandardScaler,MinMaxScaler,MaxAbsScaler,RobustScaler,Normalizer"
   ]
  },
  {
   "cell_type": "code",
   "execution_count": 16,
   "id": "2a2e5c19-6ae3-49c7-8b20-701460679c34",
   "metadata": {},
   "outputs": [],
   "source": [
    "X=df.drop('Preference',axis=1)\n",
    "y=df['Preference']\n",
    "#xi-xbar/s\n",
    "#avg=0\n",
    "#std dev=1\n",
    "ss=StandardScaler()"
   ]
  },
  {
   "cell_type": "code",
   "execution_count": 17,
   "id": "f9647e20-4ecf-4744-863b-114672fe1792",
   "metadata": {},
   "outputs": [],
   "source": [
    "X=pd.DataFrame(ss.fit_transform(X),columns=X.columns)"
   ]
  },
  {
   "cell_type": "code",
   "execution_count": 19,
   "id": "f72b560f-a19e-4a1f-908f-9cc87469b94f",
   "metadata": {},
   "outputs": [],
   "source": [
    "X_train,X_test,y_train,y_test=train_test_split(X,y,test_size=0.3,stratify=y)"
   ]
  },
  {
   "cell_type": "code",
   "execution_count": 20,
   "id": "0f2484f0-fcd8-414c-97a0-5ead9c76f099",
   "metadata": {},
   "outputs": [],
   "source": [
    "knn=KNeighborsClassifier(n_neighbors=4)\n",
    "knn.fit(X_train,y_train)\n",
    "y_pred=knn.predict(X_test)"
   ]
  },
  {
   "cell_type": "code",
   "execution_count": 21,
   "id": "c94d9728-ad3c-4392-aaff-b13319f81c19",
   "metadata": {},
   "outputs": [
    {
     "name": "stdout",
     "output_type": "stream",
     "text": [
      "              precision    recall  f1-score   support\n",
      "\n",
      "           0       0.90      0.97      0.93     11789\n",
      "           1       0.88      0.69      0.77      3945\n",
      "\n",
      "    accuracy                           0.90     15734\n",
      "   macro avg       0.89      0.83      0.85     15734\n",
      "weighted avg       0.90      0.90      0.89     15734\n",
      "\n"
     ]
    }
   ],
   "source": [
    "print(classification_report(y_test,y_pred))"
   ]
  },
  {
   "cell_type": "code",
   "execution_count": null,
   "id": "3ec3c3c3-5f0e-45a8-8e10-97c1198b5613",
   "metadata": {},
   "outputs": [],
   "source": []
  }
 ],
 "metadata": {
  "kernelspec": {
   "display_name": "Python 3 (ipykernel)",
   "language": "python",
   "name": "python3"
  },
  "language_info": {
   "codemirror_mode": {
    "name": "ipython",
    "version": 3
   },
   "file_extension": ".py",
   "mimetype": "text/x-python",
   "name": "python",
   "nbconvert_exporter": "python",
   "pygments_lexer": "ipython3",
   "version": "3.12.7"
  }
 },
 "nbformat": 4,
 "nbformat_minor": 5
}
