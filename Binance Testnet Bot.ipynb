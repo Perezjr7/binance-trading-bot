{
 "cells": [
  {
   "cell_type": "code",
   "execution_count": null,
   "id": "edbd30dd-07f6-442d-a9e3-0c2f3546257e",
   "metadata": {},
   "outputs": [],
   "source": [
    "pip install python-binance"
   ]
  },
  {
   "cell_type": "code",
   "execution_count": 4,
   "id": "80d044ae-df4f-4f65-b0a2-09689297fe06",
   "metadata": {},
   "outputs": [],
   "source": [
    "import logging\n",
    "from binance.client import Client\n",
    "from binance.enums import *\n",
    "import os"
   ]
  },
  {
   "cell_type": "code",
   "execution_count": 6,
   "id": "5272b714-8177-45fe-b0f3-bdcaf7672842",
   "metadata": {},
   "outputs": [],
   "source": [
    "# Setup logging\n",
    "logging.basicConfig(\n",
    "    filename='bot.log',\n",
    "    level=logging.INFO,\n",
    "    format='%(asctime)s - %(levelname)s - %(message)s'\n",
    ")"
   ]
  },
  {
   "cell_type": "code",
   "execution_count": 7,
   "id": "1063dd07-f4b1-4032-bbe1-6ff58727e048",
   "metadata": {},
   "outputs": [],
   "source": [
    "class BasicBot:\n",
    "    def __init__(self, api_key, api_secret, testnet=True):\n",
    "        self.testnet = testnet\n",
    "        self.client = Client(api_key, api_secret)\n",
    "        if testnet:\n",
    "            self.client.FUTURES_URL = 'https://testnet.binancefuture.com/fapi'\n",
    "            logging.info(\"Connected to Binance Futures Testnet\")\n",
    "        else:\n",
    "            logging.info(\"Connected to Binance Futures Mainnet\")"
   ]
  },
  {
   "cell_type": "code",
   "execution_count": 9,
   "id": "294f8caf-bf81-49fb-a63c-517900ec74a1",
   "metadata": {},
   "outputs": [],
   "source": [
    " def place_order(self, symbol, side, order_type, quantity, price=None):\n",
    "        try:\n",
    "            if order_type == ORDER_TYPE_MARKET:\n",
    "                order = self.client.futures_create_order(\n",
    "                    symbol=symbol,\n",
    "                    side=side,\n",
    "                    type=order_type,\n",
    "                    quantity=quantity\n",
    "                )\n",
    "            elif order_type == ORDER_TYPE_LIMIT:\n",
    "                order = self.client.futures_create_order(\n",
    "                    symbol=symbol,\n",
    "                    side=side,\n",
    "                    type=order_type,\n",
    "                    quantity=quantity,\n",
    "                    price=price,\n",
    "                    timeInForce=TIME_IN_FORCE_GTC\n",
    "                )\n",
    "            else:\n",
    "                logging.error(f\"Unsupported order type: {order_type}\")\n",
    "                return None\n",
    "\n",
    "            logging.info(f\"Order placed: {order}\")\n",
    "            return order\n",
    "        except Exception as e:\n",
    "            logging.error(f\"Error placing order: {str(e)}\")\n",
    "            return None\n"
   ]
  },
  {
   "cell_type": "code",
   "execution_count": 12,
   "id": "f1f6991b-9e17-40c7-b17b-29429b9d47e1",
   "metadata": {},
   "outputs": [
    {
     "name": "stdout",
     "output_type": "stream",
     "text": [
      "Please set your BINANCE_API_KEY and BINANCE_API_SECRET as environment variables.\n"
     ]
    }
   ],
   "source": [
    "\n",
    "def main():\n",
    "    api_key = os.getenv('BINANCE_API_KEY')\n",
    "    api_secret = os.getenv('BINANCE_API_SECRET')\n",
    "\n",
    "    if not api_key or not api_secret:\n",
    "        print(\"Please set your BINANCE_API_KEY and BINANCE_API_SECRET as environment variables.\")\n",
    "        return\n",
    "\n",
    "    bot = BasicBot(api_key, api_secret, testnet=True)\n",
    "\n",
    "    while True:\n",
    "        try:\n",
    "            symbol = input(\"Enter symbol (e.g., BTCUSDT): \").upper()\n",
    "            side = input(\"Enter side (BUY/SELL): \").upper()\n",
    "            order_type = input(\"Enter order type (MARKET/LIMIT): \").upper()\n",
    "            quantity = float(input(\"Enter quantity: \"))\n",
    "            price = None\n",
    "            if order_type == \"LIMIT\":\n",
    "                price = float(input(\"Enter price: \"))\n",
    "\n",
    "            order = bot.place_order(\n",
    "                symbol=symbol,\n",
    "                side=SIDE_BUY if side == \"BUY\" else SIDE_SELL,\n",
    "                order_type=ORDER_TYPE_MARKET if order_type == \"MARKET\" else ORDER_TYPE_LIMIT,\n",
    "                quantity=quantity,\n",
    "                price=price\n",
    "            )\n",
    "\n",
    "            if order:\n",
    "                print(f\"Order executed: {order['orderId']}\")\n",
    "            else:\n",
    "                print(\"Order failed.\")\n",
    "\n",
    "        except KeyboardInterrupt:\n",
    "            print(\"\\nExiting...\")\n",
    "            break\n",
    "        except Exception as e:\n",
    "            logging.error(f\"Unexpected error: {str(e)}\")\n",
    "            print(\"Error occurred. Check logs.\")\n",
    "\n",
    "\n",
    "if __name__ == \"__main__\":\n",
    "    main()\n"
   ]
  },
  {
   "cell_type": "code",
   "execution_count": null,
   "id": "46a5476d-9318-42c6-8153-f66df5f35df3",
   "metadata": {},
   "outputs": [],
   "source": []
  }
 ],
 "metadata": {
  "kernelspec": {
   "display_name": "Python 3 (ipykernel)",
   "language": "python",
   "name": "python3"
  },
  "language_info": {
   "codemirror_mode": {
    "name": "ipython",
    "version": 3
   },
   "file_extension": ".py",
   "mimetype": "text/x-python",
   "name": "python",
   "nbconvert_exporter": "python",
   "pygments_lexer": "ipython3",
   "version": "3.12.7"
  }
 },
 "nbformat": 4,
 "nbformat_minor": 5
}
